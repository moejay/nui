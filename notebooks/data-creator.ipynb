{
 "cells": [
  {
   "cell_type": "code",
   "execution_count": 1,
   "id": "34b6bb46-a98f-4e1f-ae69-75a0cf3f6a0e",
   "metadata": {},
   "outputs": [],
   "source": [
    "from datasets import Dataset, DatasetDict \n",
    "import openai\n",
    "import json\n",
    "import os  \n",
    "import pydantic\n",
    "from typing import Optional"
   ]
  },
  {
   "cell_type": "code",
   "execution_count": 2,
   "id": "92677a19-a106-4d59-b12c-4e863338b590",
   "metadata": {},
   "outputs": [
    {
     "name": "stdin",
     "output_type": "stream",
     "text": [
      "Enter your API KEY ········\n"
     ]
    }
   ],
   "source": [
    "import getpass\n",
    "\n",
    "openai_api_key = getpass.getpass('Enter your API KEY')"
   ]
  },
  {
   "cell_type": "code",
   "execution_count": 28,
   "id": "965bd57e-6f3c-4709-87e7-cab6d9af3d1e",
   "metadata": {},
   "outputs": [],
   "source": [
    "os.environ[\"OPENAI_API_KEY\"] = openai_api_key\n"
   ]
  },
  {
   "cell_type": "code",
   "execution_count": 55,
   "id": "cbac354e-0c54-4c36-b2da-baac3dbac43f",
   "metadata": {},
   "outputs": [],
   "source": [
    "class ClerkSituationModel(pydantic.BaseModel):\n",
    "    ui_state: str = pydantic.Field(description=\"A description of the current UI state, in human language\")\n",
    "    user_query: Optional[str] = pydantic.Field(description=\"The query from the user, mutually exclusive with action_response\")\n",
    "    action_response: Optional[str] = pydantic.Field(description=\"The result of the action, mutually exclusive with user_query\")\n",
    "                                               \n",
    "                                               \n",
    "    action_request: Optional[str] = pydantic.Field(default=None, description=\"The backend action the clerk will take, this usually results in a 'Please hold, Please wait' style response_to_human message\")\n",
    "    response_to_human: Optional[str] = pydantic.Field(default=None, description=\"What the Clerk is expected to 'say' to the user, if there is an action to be taken, this should be 'Please wait' or some variation on that\")\n",
    "    ui_change_request: Optional[str] = pydantic.Field(default=None, description=\"Changes to the UI/Presentation if any, should be in a human language, and should provide details/urls if any, this should be 'Show loading' or some variation, if there is an action to be taken\")\n",
    "\n",
    "class ClerkSituations(pydantic.BaseModel):\n",
    "    situations: List[ClerkSituationModel]\n",
    "\n",
    "class ClerkSituationsCache(pydantic.BaseModel):\n",
    "    cache: dict[str, ClerkSituations] = {}\n",
    "    "
   ]
  },
  {
   "cell_type": "code",
   "execution_count": 37,
   "id": "1cdeb7c2-029f-457a-b1a8-5723821b3d1b",
   "metadata": {},
   "outputs": [],
   "source": [
    "from typing import List\n",
    "\n",
    "from langchain.output_parsers import PydanticOutputParser\n",
    "from langchain.prompts import PromptTemplate\n",
    "from langchain_core.pydantic_v1 import BaseModel, Field, validator\n",
    "from langchain_openai import ChatOpenAI\n",
    "\n",
    "model = ChatOpenAI(temperature=0)\n",
    "\n",
    "# Set up a parser + inject instructions into the prompt template.\n",
    "parser = PydanticOutputParser(pydantic_object=ClerkSituations)\n",
    "\n",
    "prompt = PromptTemplate(\n",
    "    template=\"You are an expert data creator, generate {num_situations} situations for the following scenario.\\n{query}\\n{format_instructions}\\n\",\n",
    "    input_variables=[\"query\", \"num_situations\"],\n",
    "    partial_variables={\"format_instructions\": parser.get_format_instructions()},\n",
    ")\n",
    "\n",
    "chain = prompt | model | parser\n",
    "\n"
   ]
  },
  {
   "cell_type": "code",
   "execution_count": 38,
   "id": "d883f619-f696-4584-8023-7ff1a8469cf9",
   "metadata": {},
   "outputs": [],
   "source": [
    "response = chain.invoke({\"num_situations\": \"5\", \"query\": 'A user is using a weather app , the clerk is a weather assistant'})"
   ]
  },
  {
   "cell_type": "code",
   "execution_count": 39,
   "id": "5a53d0cf-7d5b-43de-930f-45c4267bbb8a",
   "metadata": {},
   "outputs": [
    {
     "data": {
      "text/plain": [
       "ClerkSituations(situations=[ClerkSituationModel(ui_state='The user opens the weather app for the first time', user_query='', action_response='', action_request='Fetch current location and weather data', response_to_human='Please wait while we fetch the current weather for your location', ui_change_request='Show loading animation'), ClerkSituationModel(ui_state='The user searches for a specific location', user_query='New York City weather', action_response='', action_request='Fetch weather data for New York City', response_to_human='Please wait while we fetch the weather for New York City', ui_change_request='Show loading animation'), ClerkSituationModel(ui_state='The user receives a severe weather alert', user_query='', action_response='Severe thunderstorm warning for your area', action_request='', response_to_human='Please take shelter immediately', ui_change_request='Display severe weather alert notification'), ClerkSituationModel(ui_state='The user switches from Celsius to Fahrenheit', user_query='', action_response='', action_request='Convert temperature units to Fahrenheit', response_to_human='Please wait while we convert the temperature units', ui_change_request='Update temperature display to Fahrenheit'), ClerkSituationModel(ui_state='The user closes the weather app', user_query='', action_response='', action_request='', response_to_human='Thank you for using the weather app', ui_change_request='')])"
      ]
     },
     "execution_count": 39,
     "metadata": {},
     "output_type": "execute_result"
    }
   ],
   "source": [
    "response"
   ]
  },
  {
   "cell_type": "code",
   "execution_count": 56,
   "id": "6086bfcd-21b7-4d2c-8aaa-01d594a3bef5",
   "metadata": {},
   "outputs": [],
   "source": [
    "\n",
    "def load_cache(cache_file):\n",
    "    if os.path.exists(cache_file):\n",
    "        with open(cache_file, 'r') as f:\n",
    "            r = json.load(f)\n",
    "            return ClerkSituationsCache(**r)\n",
    "    else:\n",
    "        return ClerkSituationsCache()\n",
    "\n",
    "def save_cache(cache_file, cache_data):\n",
    "    with open(cache_file, 'w') as f:\n",
    "        json.dump(cache_data.dict(), f)\n"
   ]
  },
  {
   "cell_type": "code",
   "execution_count": 65,
   "id": "18fc0ca9-8dbc-40c9-af2e-7c29c281db08",
   "metadata": {},
   "outputs": [],
   "source": [
    "\n",
    "# Main script logic\n",
    "scenarios_file = \"scenarios.txt\"\n",
    "output_dataset_path = \"datasets/\" \n",
    "cache_file = \"scenario_cache.json\"\n",
    "\n",
    "cache = load_cache(cache_file)\n",
    "dataset = []\n",
    "\n",
    "with open(scenarios_file, 'r') as f:\n",
    "    for scenario_line in f:\n",
    "        scenario = scenario_line.strip()\n",
    "        if scenario in cache:\n",
    "            dataset.extend(cache[scenario].situations)  # Load from cache \n",
    "        else:\n",
    "            scenario_data = response = chain.invoke({\"num_situations\": \"5\", \"query\": scenario})\n",
    "            dataset.extend(scenario_data.situations)  # Process and add to dataset\n",
    "            cache.cache[scenario] = scenario_data  # Update the cache\n",
    "\n",
    "save_cache(cache_file, cache) \n",
    "\n"
   ]
  },
  {
   "cell_type": "code",
   "execution_count": 66,
   "id": "991f6056-8678-4c20-b5dd-8269d224d6c3",
   "metadata": {},
   "outputs": [
    {
     "data": {
      "text/plain": [
       "[ClerkSituationModel(ui_state='The user opens the weather app for the first time', user_query='', action_response='', action_request='Fetch current location and weather data', response_to_human='Please wait while we fetch the current weather for your location', ui_change_request='Display loading spinner on screen'),\n",
       " ClerkSituationModel(ui_state='The user searches for a specific location', user_query='New York City weather', action_response='', action_request='Fetch weather data for New York City', response_to_human='Please wait while we fetch the weather for New York City', ui_change_request='Display loading spinner on screen'),\n",
       " ClerkSituationModel(ui_state='The user receives a severe weather alert', user_query='', action_response='Severe thunderstorm warning issued for your area', action_request='', response_to_human='Please take shelter immediately, severe thunderstorm warning in effect', ui_change_request='Display emergency alert notification on screen'),\n",
       " ClerkSituationModel(ui_state='The user switches from Celsius to Fahrenheit', user_query='Switch to Fahrenheit', action_response='Temperature units changed to Fahrenheit', action_request='', response_to_human='Temperature units changed to Fahrenheit', ui_change_request='Update temperature display to show Fahrenheit'),\n",
       " ClerkSituationModel(ui_state='The user closes the weather app', user_query='', action_response='', action_request='', response_to_human='', ui_change_request=''),\n",
       " ClerkSituationModel(ui_state='User is seeking book recommendations within a specific genre', user_query='Suggest some funny fantasy books', action_response='', action_request='Retrieve a list of funny fantasy books from the database', response_to_human='Please wait while I gather the recommendations for you', ui_change_request='Show loading icon'),\n",
       " ClerkSituationModel(ui_state='User is looking for recommendations in the mystery genre', user_query='Recommend some thrilling mystery novels', action_response='', action_request='Fetch a selection of thrilling mystery novels from the database', response_to_human='Please hold while I find the best mystery novels for you', ui_change_request='Display a loading spinner'),\n",
       " ClerkSituationModel(ui_state='User wants suggestions for romance novels', user_query='I need some romantic book recommendations', action_response='', action_request='Search for romantic novels in the database', response_to_human='Please wait a moment while I search for romantic book suggestions', ui_change_request='Show a loading animation'),\n",
       " ClerkSituationModel(ui_state='User is interested in science fiction books', user_query='Can you recommend some mind-bending sci-fi novels?', action_response='', action_request='Retrieve mind-bending sci-fi novels from the database', response_to_human='Please be patient as I gather the best sci-fi recommendations for you', ui_change_request='Display a loading message'),\n",
       " ClerkSituationModel(ui_state='User is seeking recommendations for historical fiction books', user_query='Looking for gripping historical fiction novels', action_response='', action_request='Find gripping historical fiction novels in the database', response_to_human='Please wait while I search for gripping historical fiction recommendations', ui_change_request='Show a loading screen'),\n",
       " ClerkSituationModel(ui_state='User requests a joke or a funny story', user_query='Tell me a joke!', action_response='', action_request='', response_to_human=\"Sure! Why couldn't the bicycle stand up by itself? It was two tired!\", ui_change_request=''),\n",
       " ClerkSituationModel(ui_state='User requests a joke or a funny story', user_query='I need a good laugh!', action_response='', action_request='', response_to_human='Of course! Why did the scarecrow win an award? Because he was outstanding in his field!', ui_change_request=''),\n",
       " ClerkSituationModel(ui_state='User requests a joke or a funny story', user_query='Make me smile!', action_response='', action_request='', response_to_human='Absolutely! How does a penguin build its house? Igloos it together!', ui_change_request=''),\n",
       " ClerkSituationModel(ui_state='User requests a joke or a funny story', user_query='I could use a chuckle!', action_response='', action_request='', response_to_human='No problem! Why did the math book look sad? Because it had too many problems!', ui_change_request=''),\n",
       " ClerkSituationModel(ui_state='User requests a joke or a funny story', user_query='Tell me something funny!', action_response='', action_request='', response_to_human=\"Sure thing! Why don't scientists trust atoms? Because they make up everything!\", ui_change_request=''),\n",
       " ClerkSituationModel(ui_state='User poses a lighthearted philosophical question', user_query=\"If a tree falls in the forest and no one's around, does it make a sound?\", action_response='', action_request='', response_to_human='Please wait', ui_change_request=''),\n",
       " ClerkSituationModel(ui_state='User poses a fun philosophical scenario', user_query='If you could have dinner with any historical figure, who would it be?', action_response='', action_request='', response_to_human='Please wait', ui_change_request=''),\n",
       " ClerkSituationModel(ui_state='User asks a playful philosophical question', user_query='If you could time travel, would you go to the past or the future?', action_response='', action_request='', response_to_human='Please wait', ui_change_request=''),\n",
       " ClerkSituationModel(ui_state='User presents a whimsical philosophical inquiry', user_query='If you could be any animal for a day, what would you choose?', action_response='', action_request='', response_to_human='Please wait', ui_change_request=''),\n",
       " ClerkSituationModel(ui_state='User shares a light-hearted philosophical thought', user_query='If you could live in any fictional world, where would you choose?', action_response='', action_request='', response_to_human='Please wait', ui_change_request=''),\n",
       " ClerkSituationModel(ui_state='User expresses boredom and asks for something interesting', user_query=\"I'm bored. Can you tell me something interesting?\", action_response='', action_request='', response_to_human='Sure! Did you know that honey never spoils?', ui_change_request=''),\n",
       " ClerkSituationModel(ui_state='User expresses sadness and asks for something uplifting', user_query=\"I'm feeling down. Can you cheer me up?\", action_response='', action_request='', response_to_human=\"I'm sorry to hear that. How about a joke to lighten the mood? Why couldn't the bicycle stand up by itself? It was two tired!\", ui_change_request=''),\n",
       " ClerkSituationModel(ui_state='User expresses frustration and asks for a distraction', user_query=\"I'm so frustrated. Can you help me take my mind off things?\", action_response='', action_request='', response_to_human='I understand. How about a fun fact to distract you? Did you know that the shortest war in history lasted only 38 minutes?', ui_change_request=''),\n",
       " ClerkSituationModel(ui_state='User expresses disappointment and seeks encouragement', user_query=\"I'm feeling disappointed. Can you give me some words of encouragement?\", action_response='', action_request='', response_to_human=\"I'm sorry you're feeling that way. Remember, tough times don't last, but tough people do. You've got this!\", ui_change_request=''),\n",
       " ClerkSituationModel(ui_state='User expresses stress and asks for relaxation techniques', user_query=\"I'm so stressed out. Can you suggest some relaxation techniques?\", action_response='', action_request='', response_to_human='I hear you. How about trying some deep breathing exercises? Inhale for 4 seconds, hold for 7 seconds, and exhale for 8 seconds. Repeat a few times.', ui_change_request=''),\n",
       " ClerkSituationModel(ui_state='User is asking for the result of 25% of 180', user_query=\"What's 25% of 180?\", action_response='The result is 45', action_request=None, response_to_human='The result is 45', ui_change_request=''),\n",
       " ClerkSituationModel(ui_state='User wants to calculate 30% of 150', user_query='What is 30% of 150?', action_response='The answer is 45', action_request=None, response_to_human='The answer is 45', ui_change_request=''),\n",
       " ClerkSituationModel(ui_state='User is requesting the calculation of 10% of 200', user_query='Calculate 10% of 200', action_response='The calculation is 20', action_request=None, response_to_human='The calculation is 20', ui_change_request=''),\n",
       " ClerkSituationModel(ui_state='User is asking for the result of 40% of 250', user_query='What is 40% of 250?', action_response='The result is 100', action_request=None, response_to_human='The result is 100', ui_change_request=''),\n",
       " ClerkSituationModel(ui_state='User wants to know the calculation of 15% of 300', user_query='Calculate 15% of 300', action_response='The answer is 45', action_request=None, response_to_human='The answer is 45', ui_change_request=''),\n",
       " ClerkSituationModel(ui_state='User is requesting a conversion between units', user_query='Convert 80 kilometers per hour to miles per hour', action_response='The conversion result is 49.71 miles per hour', action_request=None, response_to_human='Here is the conversion result: 49.71 miles per hour', ui_change_request='No UI changes required'),\n",
       " ClerkSituationModel(ui_state='User is requesting a conversion between units', user_query='Convert 100 pounds to kilograms', action_response='The conversion result is 45.36 kilograms', action_request=None, response_to_human='Here is the conversion result: 45.36 kilograms', ui_change_request='No UI changes required'),\n",
       " ClerkSituationModel(ui_state='User is requesting a conversion between units', user_query='Convert 30 degrees Celsius to Fahrenheit', action_response='The conversion result is 86 degrees Fahrenheit', action_request=None, response_to_human='Here is the conversion result: 86 degrees Fahrenheit', ui_change_request='No UI changes required'),\n",
       " ClerkSituationModel(ui_state='User is requesting a conversion between units', user_query='Convert 500 meters to feet', action_response='The conversion result is 1640.42 feet', action_request=None, response_to_human='Here is the conversion result: 1640.42 feet', ui_change_request='No UI changes required'),\n",
       " ClerkSituationModel(ui_state='User is requesting a conversion between units', user_query='Convert 2 liters to gallons', action_response='The conversion result is 0.53 gallons', action_request=None, response_to_human='Here is the conversion result: 0.53 gallons', ui_change_request='No UI changes required'),\n",
       " ClerkSituationModel(ui_state='User provides a word problem and asks for the solution', user_query='If a train leaves Chicago at 2 PM...', action_response='The train will arrive in New York at 6 PM', action_request=None, response_to_human='The train will arrive in New York at 6 PM', ui_change_request='Display the train schedule'),\n",
       " ClerkSituationModel(ui_state='User provides a word problem and asks for the solution', user_query='Sally has 5 apples and gives 2 to her friend...', action_response='Sally has 3 apples left', action_request=None, response_to_human='Sally has 3 apples left', ui_change_request='Show the remaining apples visually'),\n",
       " ClerkSituationModel(ui_state='User provides a word problem and asks for the solution', user_query='John drives at 60 mph for 2 hours...', action_response='John has traveled 120 miles', action_request=None, response_to_human='John has traveled 120 miles', ui_change_request='Display the distance traveled on a map'),\n",
       " ClerkSituationModel(ui_state='User provides a word problem and asks for the solution', user_query='A recipe calls for 2 cups of flour...', action_response='You need 2 cups of flour for the recipe', action_request=None, response_to_human='You need 2 cups of flour for the recipe', ui_change_request='Show the recipe ingredients list'),\n",
       " ClerkSituationModel(ui_state='User provides a word problem and asks for the solution', user_query='A garden is 10 feet long and 5 feet wide...', action_response='The area of the garden is 50 square feet', action_request=None, response_to_human='The area of the garden is 50 square feet', ui_change_request='Display the garden dimensions visually'),\n",
       " ClerkSituationModel(ui_state='User asks for a fun fact about the number 7', user_query='What is an interesting fact about the number 7?', action_response='The number 7 is considered a lucky number in many cultures around the world.', action_request=None, response_to_human=\"Here's an interesting fact about the number 7!\", ui_change_request=''),\n",
       " ClerkSituationModel(ui_state='User wants to know a numerical trivia related to the Fibonacci sequence', user_query='Can you share a numerical trivia about the Fibonacci sequence?', action_response='The Fibonacci sequence is a series of numbers where each number is the sum of the two preceding ones.', action_request=None, response_to_human=\"Here's a fun fact about the Fibonacci sequence!\", ui_change_request=''),\n",
       " ClerkSituationModel(ui_state='User inquires about a mathematical fact related to prime numbers', user_query='Tell me an interesting fact about prime numbers', action_response='Prime numbers are numbers that are only divisible by 1 and themselves.', action_request=None, response_to_human=\"Here's a fascinating fact about prime numbers!\", ui_change_request=''),\n",
       " ClerkSituationModel(ui_state='User is curious about the significance of the number 42', user_query='Why is the number 42 considered significant?', action_response=\"In Douglas Adams' 'The Hitchhiker's Guide to the Galaxy', 42 is the 'Answer to the Ultimate Question of Life, the Universe, and Everything'.\", action_request=None, response_to_human=\"Here's why the number 42 is significant!\", ui_change_request=''),\n",
       " ClerkSituationModel(ui_state='User wants to know a fun fact about the number pi (π)', user_query='Share an interesting fact about the number pi', action_response=\"Pi is an irrational number that represents the ratio of a circle's circumference to its diameter.\", action_request=None, response_to_human=\"Here's a cool fact about the number pi!\", ui_change_request=''),\n",
       " ClerkSituationModel(ui_state='The living room lights are currently at 100% brightness.', user_query='Dim the living room lights to 50%.', action_response='The living room lights have been dimmed to 50% brightness.', action_request='Adjust the living room lights to 50% brightness.', response_to_human='Please wait while the living room lights are being adjusted.', ui_change_request='Show loading animation while the lights are being adjusted.'),\n",
       " ClerkSituationModel(ui_state='The living room lights are currently at 50% brightness.', user_query='Increase the brightness of the living room lights to 75%.', action_response='The brightness of the living room lights has been increased to 75%.', action_request='Adjust the living room lights to 75% brightness.', response_to_human='Please wait while the brightness of the living room lights is being adjusted.', ui_change_request='Show loading animation while the lights are being adjusted.'),\n",
       " ClerkSituationModel(ui_state='The living room lights are currently off.', user_query='Turn on the living room lights.', action_response='The living room lights have been turned on.', action_request='Turn on the living room lights.', response_to_human='Please wait while the living room lights are being turned on.', ui_change_request='Show loading animation while the lights are being turned on.'),\n",
       " ClerkSituationModel(ui_state='The living room lights are currently at 75% brightness.', user_query='Turn off the living room lights.', action_response='The living room lights have been turned off.', action_request='Turn off the living room lights.', response_to_human='Please wait while the living room lights are being turned off.', ui_change_request='Show loading animation while the lights are being turned off.'),\n",
       " ClerkSituationModel(ui_state='The living room lights are currently at 25% brightness.', user_query='Increase the brightness of the living room lights to 100%.', action_response='The brightness of the living room lights has been increased to 100%.', action_request='Adjust the living room lights to 100% brightness.', response_to_human='Please wait while the brightness of the living room lights is being adjusted.', ui_change_request='Show loading animation while the lights are being adjusted.'),\n",
       " ClerkSituationModel(ui_state=\"User has initiated the 'good morning' routine\", user_query=\"Start my 'good morning' routine\", action_response='', action_request=\"Initiate the 'good morning' routine process\", response_to_human=\"Please wait while we start your 'good morning' routine\", ui_change_request='Show loading screen with progress bar'),\n",
       " ClerkSituationModel(ui_state=\"User has initiated the 'workout' routine\", user_query=\"Start my 'workout' routine\", action_response='', action_request=\"Initiate the 'workout' routine process\", response_to_human=\"Please wait while we start your 'workout' routine\", ui_change_request='Show workout instructions on screen'),\n",
       " ClerkSituationModel(ui_state=\"User has initiated the 'meditation' routine\", user_query=\"Start my 'meditation' routine\", action_response='', action_request=\"Initiate the 'meditation' routine process\", response_to_human=\"Please wait while we start your 'meditation' routine\", ui_change_request='Show calming background with soothing music'),\n",
       " ClerkSituationModel(ui_state=\"User has initiated the 'meal prep' routine\", user_query=\"Start my 'meal prep' routine\", action_response='', action_request=\"Initiate the 'meal prep' routine process\", response_to_human=\"Please wait while we start your 'meal prep' routine\", ui_change_request='Show recipe suggestions on screen'),\n",
       " ClerkSituationModel(ui_state=\"User has initiated the 'bedtime' routine\", user_query=\"Start my 'bedtime' routine\", action_response='', action_request=\"Initiate the 'bedtime' routine process\", response_to_human=\"Please wait while we start your 'bedtime' routine\", ui_change_request='Dim the screen and play calming sounds'),\n",
       " ClerkSituationModel(ui_state='The garage door is closed', user_query='Is the garage door closed?', action_response='Yes, the garage door is closed', action_request='', response_to_human='Yes, the garage door is closed', ui_change_request=''),\n",
       " ClerkSituationModel(ui_state='The garage door is open', user_query='Is the garage door closed?', action_response='No, the garage door is open', action_request='', response_to_human='No, the garage door is open', ui_change_request=''),\n",
       " ClerkSituationModel(ui_state='The sensor is offline', user_query='Is the garage door closed?', action_response='Unable to determine the status of the garage door as the sensor is offline', action_request='', response_to_human='Unable to determine the status of the garage door as the sensor is offline', ui_change_request=''),\n",
       " ClerkSituationModel(ui_state='The garage door status is unknown', user_query='Is the garage door closed?', action_response='The status of the garage door is unknown', action_request='', response_to_human='The status of the garage door is unknown', ui_change_request=''),\n",
       " ClerkSituationModel(ui_state='The garage door is malfunctioning', user_query='Is the garage door closed?', action_response='There is an issue with the garage door, please contact support for assistance', action_request='', response_to_human='There is an issue with the garage door, please contact support for assistance', ui_change_request=''),\n",
       " ClerkSituationModel(ui_state='User is requesting to view the front door camera feed', user_query='Show me the front door camera feed', action_response='', action_request='Retrieve front door camera feed', response_to_human='Please wait while we retrieve the front door camera feed', ui_change_request='Display front door camera feed on screen'),\n",
       " ClerkSituationModel(ui_state='User is requesting to arm the security system', user_query='Arm the security system', action_response='', action_request='Arm the security system', response_to_human='Please wait while we arm the security system', ui_change_request='Display confirmation message that security system is armed'),\n",
       " ClerkSituationModel(ui_state='User is requesting to disarm the security system', user_query='Disarm the security system', action_response='', action_request='Disarm the security system', response_to_human='Please wait while we disarm the security system', ui_change_request='Display confirmation message that security system is disarmed'),\n",
       " ClerkSituationModel(ui_state='User is requesting to check the status of the security system', user_query='Check security system status', action_response='', action_request='Check security system status', response_to_human='Please wait while we check the status of the security system', ui_change_request='Display the current status of the security system'),\n",
       " ClerkSituationModel(ui_state='User is requesting to receive notifications for security alerts', user_query='Enable security alerts notifications', action_response='', action_request='Enable security alerts notifications', response_to_human='Please wait while we enable security alerts notifications', ui_change_request='Display confirmation message that security alerts notifications are enabled')]"
      ]
     },
     "execution_count": 66,
     "metadata": {},
     "output_type": "execute_result"
    }
   ],
   "source": [
    "dataset"
   ]
  },
  {
   "cell_type": "code",
   "execution_count": 70,
   "id": "f94ab64d-cd44-42f8-ba47-5341492dbae9",
   "metadata": {},
   "outputs": [],
   "source": [
    "hf_dataset = Dataset.from_list([r.dict() for r in dataset])  "
   ]
  },
  {
   "cell_type": "code",
   "execution_count": 72,
   "id": "6b399962-a614-4be1-9eb3-f1136ffee2fb",
   "metadata": {},
   "outputs": [
    {
     "data": {
      "application/vnd.jupyter.widget-view+json": {
       "model_id": "1a152d8b0e32429da7e5643a77646d14",
       "version_major": 2,
       "version_minor": 0
      },
      "text/plain": [
       "VBox(children=(HTML(value='<center> <img\\nsrc=https://huggingface.co/front/assets/huggingface_logo-noborder.sv…"
      ]
     },
     "metadata": {},
     "output_type": "display_data"
    }
   ],
   "source": [
    "from huggingface_hub import notebook_login\n",
    "notebook_login()"
   ]
  },
  {
   "cell_type": "code",
   "execution_count": 74,
   "id": "621b2f64-4c54-41e2-87dc-2fa02eaf74ea",
   "metadata": {},
   "outputs": [
    {
     "data": {
      "application/vnd.jupyter.widget-view+json": {
       "model_id": "0b1112fec6134b7c94df6afe9c1b005f",
       "version_major": 2,
       "version_minor": 0
      },
      "text/plain": [
       "Uploading the dataset shards:   0%|          | 0/1 [00:00<?, ?it/s]"
      ]
     },
     "metadata": {},
     "output_type": "display_data"
    },
    {
     "data": {
      "application/vnd.jupyter.widget-view+json": {
       "model_id": "aea5ff20a770465db591e1126f3e8a21",
       "version_major": 2,
       "version_minor": 0
      },
      "text/plain": [
       "Creating parquet from Arrow format:   0%|          | 0/1 [00:00<?, ?ba/s]"
      ]
     },
     "metadata": {},
     "output_type": "display_data"
    },
    {
     "data": {
      "text/plain": [
       "CommitInfo(commit_url='https://huggingface.co/datasets/m0ejay/aiui-clerk-small-set/commit/2fdcdf8f16eefa731ffcf879e6aecaa907e6953f', commit_message='Upload dataset', commit_description='', oid='2fdcdf8f16eefa731ffcf879e6aecaa907e6953f', pr_url=None, pr_revision=None, pr_num=None)"
      ]
     },
     "execution_count": 74,
     "metadata": {},
     "output_type": "execute_result"
    }
   ],
   "source": [
    "hf_dataset.push_to_hub(\"m0ejay/aiui-clerk-small-set\", private=True)"
   ]
  },
  {
   "cell_type": "code",
   "execution_count": 78,
   "id": "5cbe4384-1448-4f13-bb49-08f2baf56654",
   "metadata": {},
   "outputs": [
    {
     "data": {
      "text/plain": [
       "{'ui_state': 'The user receives a severe weather alert',\n",
       " 'user_query': '',\n",
       " 'action_response': 'Severe thunderstorm warning issued for your area',\n",
       " 'action_request': '',\n",
       " 'response_to_human': 'Please take shelter immediately, severe thunderstorm warning in effect',\n",
       " 'ui_change_request': 'Display emergency alert notification on screen'}"
      ]
     },
     "execution_count": 78,
     "metadata": {},
     "output_type": "execute_result"
    }
   ],
   "source": [
    " hf_dataset[2]"
   ]
  },
  {
   "cell_type": "code",
   "execution_count": null,
   "id": "29503872-2e8b-42ef-957c-dc2c27a9b290",
   "metadata": {},
   "outputs": [],
   "source": []
  }
 ],
 "metadata": {
  "kernelspec": {
   "display_name": "Python 3 (ipykernel)",
   "language": "python",
   "name": "python3"
  },
  "language_info": {
   "codemirror_mode": {
    "name": "ipython",
    "version": 3
   },
   "file_extension": ".py",
   "mimetype": "text/x-python",
   "name": "python",
   "nbconvert_exporter": "python",
   "pygments_lexer": "ipython3",
   "version": "3.11.6"
  }
 },
 "nbformat": 4,
 "nbformat_minor": 5
}
